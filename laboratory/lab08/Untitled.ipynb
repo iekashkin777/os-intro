{
 "cells": [
  {
   "cell_type": "code",
   "execution_count": 5,
   "id": "00159908-fc61-4d61-a284-60b42f0e8038",
   "metadata": {},
   "outputs": [],
   "source": [
    "def main(text, gamma):\n",
    "    dict = {\"а\" :1, \"б\" :2 , \"в\" :3 ,\"г\" :4 ,\"д\" :5 ,\"е\" :6 ,\"ё\" :7 ,\"ж\": 8, \"з\": 9, \"и\": 10, \"й\": 11, \"к\": 12, \"л\": 13,\n",
    "            \"м\": 14, \"н\": 15, \"о\": 16, \"п\": 17,\n",
    "            \"р\": 18, \"с\": 19, \"т\": 20, \"у\": 21, \"ф\": 22, \"х\": 23, \"ц\": 24, \"ч\": 25, \"ш\": 26, \"щ\": 27, \"ъ\": 28,\n",
    "            \"ы\": 29, \"ь\": 30, \"э\": 31, \"ю\": 32, \"я\": 32\n",
    "            }\n",
    "    dict2 = {v: k for k, v in dict.items()}\n",
    "    digits_text = list()\n",
    "    digits_gamma = list()\n",
    "    \n",
    "    for i in text:\n",
    "        digits_text.append(dict[i])\n",
    "    print(\"Числа текста: \", digits_text)\n",
    "    \n",
    "    for i in gamma:\n",
    "        digits_gamma.append(dict[i])\n",
    "    print(\"Числа гаммы: \", digits_gamma)\n",
    "    \n",
    "    digits_res = list()\n",
    "    ch = 0\n",
    "    for i in text:\n",
    "        try:\n",
    "            a = dict[i] + digits_gamma[ch]\n",
    "        except:\n",
    "            ch = 0\n",
    "            a = dict[i] + digits_gamma[ch]\n",
    "        if a>=33:\n",
    "            a = a%33\n",
    "        ch += 1\n",
    "        digits_res.append(a)\n",
    "    print(\"Числа шифровки: \", digits_res)\n",
    "        \n",
    "    text_enc = \"\"\n",
    "    for i in digits_text:\n",
    "        text_enc += dict2[i]\n",
    "    print(\"Шифровка: \", text_enc)\n",
    "        \n",
    "    digits = list()\n",
    "    for i in text_enc:\n",
    "        digits.append(dict[i])\n",
    "    ch = 0\n",
    "    digits1 = list()\n",
    "    for i in digits:\n",
    "        a = i - digits_gamma[ch]\n",
    "        if a < 1:\n",
    "            a = 33 + a\n",
    "        digits1.append(a)\n",
    "        ch += 1\n",
    "    text_dec = \"\"\n",
    "    for i in digits1:\n",
    "        text_dec += dict2[i]\n",
    "    print(\"Рассшифровка: \", text_dec)"
   ]
  },
  {
   "cell_type": "code",
   "execution_count": 6,
   "id": "87a5e259-a061-43c6-b72c-e1e9e7eba7c6",
   "metadata": {},
   "outputs": [
    {
     "data": {
      "text/plain": [
       "6"
      ]
     },
     "execution_count": 6,
     "metadata": {},
     "output_type": "execute_result"
    }
   ],
   "source": [
    "test = \"ялюблюрулн\"\n",
    "len(text)"
   ]
  },
  {
   "cell_type": "code",
   "execution_count": 7,
   "id": "e5c9a7fd-9454-4807-8d10-4b2bd1b708cf",
   "metadata": {},
   "outputs": [
    {
     "data": {
      "text/plain": [
       "6"
      ]
     },
     "execution_count": 7,
     "metadata": {},
     "output_type": "execute_result"
    }
   ],
   "source": [
    "gamma = \"физмат\"\n",
    "len(text)"
   ]
  },
  {
   "cell_type": "code",
   "execution_count": 8,
   "id": "a376db8b-24a3-4c94-8cc9-830061c38364",
   "metadata": {},
   "outputs": [
    {
     "name": "stdout",
     "output_type": "stream",
     "text": [
      "Числа текста:  [32, 13, 32, 2, 13, 32]\n",
      "Числа гаммы:  [22, 10, 9, 14, 1, 20]\n",
      "Числа шифровки:  [21, 23, 8, 16, 14, 19]\n",
      "Шифровка:  ялябля\n",
      "Рассшифровка:  ивхукк\n"
     ]
    }
   ],
   "source": [
    "main(text, gamma)"
   ]
  }
 ],
 "metadata": {
  "kernelspec": {
   "display_name": "Python 3 (ipykernel)",
   "language": "python",
   "name": "python3"
  },
  "language_info": {
   "codemirror_mode": {
    "name": "ipython",
    "version": 3
   },
   "file_extension": ".py",
   "mimetype": "text/x-python",
   "name": "python",
   "nbconvert_exporter": "python",
   "pygments_lexer": "ipython3",
   "version": "3.11.7"
  }
 },
 "nbformat": 4,
 "nbformat_minor": 5
}
